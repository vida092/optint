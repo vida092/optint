{
 "cells": [
  {
   "cell_type": "code",
   "execution_count": 44,
   "id": "856dab29",
   "metadata": {},
   "outputs": [],
   "source": [
    "import pandas as pd\n",
    "import numpy as np\n",
    "import matplotlib.pyplot as plt\n",
    "from sklearn.metrics import silhouette_score\n",
    "\n",
    "\n"
   ]
  },
  {
   "cell_type": "code",
   "execution_count": 45,
   "id": "6e3750ab",
   "metadata": {},
   "outputs": [],
   "source": [
    "D = np.loadtxt('iris2.csv', delimiter=',')"
   ]
  },
  {
   "cell_type": "code",
   "execution_count": 65,
   "id": "4b81224f",
   "metadata": {},
   "outputs": [
    {
     "name": "stdout",
     "output_type": "stream",
     "text": [
      "[0.7720941  0.47432161 0.32565592 0.42728957 0.75922789 0.48995599\n",
      " 0.62882805 0.98264109]\n"
     ]
    },
    {
     "ename": "ValueError",
     "evalue": "cannot reshape array of size 1 into shape (4,2)",
     "output_type": "error",
     "traceback": [
      "\u001b[1;31m---------------------------------------------------------------------------\u001b[0m",
      "\u001b[1;31mValueError\u001b[0m                                Traceback (most recent call last)",
      "Input \u001b[1;32mIn [65]\u001b[0m, in \u001b[0;36m<cell line: 9>\u001b[1;34m()\u001b[0m\n\u001b[0;32m      7\u001b[0m v1 \u001b[38;5;241m=\u001b[39mx[dim :]\n\u001b[0;32m      8\u001b[0m v2 \u001b[38;5;241m=\u001b[39mx[dim :]\n\u001b[1;32m----> 9\u001b[0m \u001b[43mx\u001b[49m\u001b[43m[\u001b[49m\u001b[38;5;241;43m0\u001b[39;49m\u001b[43m]\u001b[49m\u001b[38;5;241;43m.\u001b[39;49m\u001b[43mreshape\u001b[49m\u001b[43m(\u001b[49m\u001b[43mdim\u001b[49m\u001b[43m,\u001b[49m\u001b[38;5;241;43m2\u001b[39;49m\u001b[43m)\u001b[49m\n",
      "\u001b[1;31mValueError\u001b[0m: cannot reshape array of size 1 into shape (4,2)"
     ]
    }
   ],
   "source": [
    "labels = D[:,-1]\n",
    "features = D[:,: -1]\n",
    "dim=np.shape(features)[1]\n",
    "#punto inicial\n",
    "x = np.random.rand(1,dim*2)[0]\n",
    "print(x)\n",
    "v1 =x[dim :]\n",
    "v2 =x[dim :]\n",
    "x[0].reshape(dim,2)"
   ]
  },
  {
   "cell_type": "code",
   "execution_count": null,
   "id": "cb633b07",
   "metadata": {},
   "outputs": [],
   "source": [
    "def repare(x):\n",
    "    n = len(x)/2\n",
    "    v1 =x[: n]\n",
    "    v2 =x[n :]\n",
    "    \n",
    "    "
   ]
  },
  {
   "cell_type": "code",
   "execution_count": 43,
   "id": "2b68a7cb",
   "metadata": {},
   "outputs": [],
   "source": [
    "def f(D,x):\n",
    "    labels = D[:,-1].astype(int)\n",
    "    features = D[:,: -1]\n",
    "    n = int(np.size(x)/2)\n",
    "    \n",
    "    matrix = x.reshape((n,2))\n",
    "    \n",
    "    projected_features = features @ matrix\n",
    "    silhouette_avg = -silhouette_score(projected_features, labels)\n",
    "    \n",
    "    return silhouette_avg"
   ]
  },
  {
   "cell_type": "code",
   "execution_count": 41,
   "id": "0551d340",
   "metadata": {},
   "outputs": [
    {
     "name": "stdout",
     "output_type": "stream",
     "text": [
      "[61 11]\n"
     ]
    }
   ],
   "source": []
  },
  {
   "cell_type": "code",
   "execution_count": null,
   "id": "c024c507",
   "metadata": {},
   "outputs": [],
   "source": []
  },
  {
   "cell_type": "code",
   "execution_count": null,
   "id": "42b50cdc",
   "metadata": {},
   "outputs": [],
   "source": []
  },
  {
   "cell_type": "code",
   "execution_count": null,
   "id": "254dc916",
   "metadata": {},
   "outputs": [],
   "source": []
  },
  {
   "cell_type": "code",
   "execution_count": null,
   "id": "55f73c85",
   "metadata": {},
   "outputs": [],
   "source": []
  }
 ],
 "metadata": {
  "kernelspec": {
   "display_name": "Python 3 (ipykernel)",
   "language": "python",
   "name": "python3"
  },
  "language_info": {
   "codemirror_mode": {
    "name": "ipython",
    "version": 3
   },
   "file_extension": ".py",
   "mimetype": "text/x-python",
   "name": "python",
   "nbconvert_exporter": "python",
   "pygments_lexer": "ipython3",
   "version": "3.9.13"
  }
 },
 "nbformat": 4,
 "nbformat_minor": 5
}
